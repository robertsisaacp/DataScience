{
 "cells": [
  {
   "cell_type": "markdown",
   "metadata": {},
   "source": [
    "# Overview\n",
    "* Feature extraction using the bag of words model\n",
    "* Use K-Means clustering to identify a set of topics\n",
    "* Implement silhouette analysis to select number of clusters [link](https://scikit-learn.org/stable/auto_examples/cluster/plot_kmeans_silhouette_analysis.html)\n",
    "* Using the K-Nearest neighbors model for classifying text into those topics"
   ]
  },
  {
   "cell_type": "code",
   "execution_count": 3,
   "metadata": {},
   "outputs": [],
   "source": [
    "import requests\n",
    "from bs4 import BeautifulSoup\n",
    "import pandas as pd\n",
    "import numpy as np\n",
    "\n",
    "from sklearn.feature_extraction.text import TfidfVectorizer\n",
    "from sklearn.cluster import KMeans\n",
    "from sklearn.neighbors import KNeighborsClassifier\n",
    "\n",
    "from nltk.tokenize import sent_tokenize, word_tokenize\n",
    "from nltk.corpus import stopwords\n",
    "from nltk.probability import FreqDist\n",
    "from collections import defaultdict\n",
    "from string import punctuation\n",
    "from heapq import nlargest\n",
    "import nltk"
   ]
  },
  {
   "cell_type": "code",
   "execution_count": 2,
   "metadata": {},
   "outputs": [
    {
     "data": {
      "text/plain": [
       "[<a href=\"/\"></a>,\n",
       " <a href=\"/news/subscribe.html\" target=\"_blank\"><b>Subscribe to KDnuggets News</b></a>,\n",
       " <a href=\"https://twitter.com/kdnuggets\" target=\"_blank\"><img alt=\"Twitter\" height=\"48\" src=\"/images/tw_c48.png\" style=\"vertical-align: bottom\" width=\"48\"/></a>,\n",
       " <a href=\"https://www.facebook.com/kdnuggets\" target=\"_blank\"><img alt=\"Facebook\" height=\"48\" src=\"/images/fb_c48.png\" style=\"vertical-align: bottom\" width=\"48\"/></a>,\n",
       " <a href=\"https://www.linkedin.com/groups/54257/\" target=\"_blank\"><img alt=\"LinkedIn\" height=\"48\" src=\"/images/in_c48.png\" style=\"vertical-align: bottom\" width=\"48\"/></a>,\n",
       " <a href=\"/contact.html\"><b>Contact</b></a>,\n",
       " <a href=\"/\"></a>,\n",
       " <a href=\"/software/index.html\" title=\"Data Science Software\">SOFTWARE</a>,\n",
       " <a href=\"/news/index.html\" title=\"News\">News/Blog</a>,\n",
       " <a href=\"/news/top-stories.html\">Top stories</a>,\n",
       " <a href=\"https://www.kdnuggets.com/opinions/index.html\" title=\"Opinions\">Opinions</a>,\n",
       " <a href=\"https://www.kdnuggets.com/tutorials/index.html\">Tutorials</a>,\n",
       " <a href=\"/jobs/index.html\" title=\"Jobs in Analytics, Data Science\">JOBS</a>,\n",
       " <a href=\"https://www.kdnuggets.com/companies/index.html\">Companies</a>,\n",
       " <a href=\"/courses/index.html\">Courses</a>,\n",
       " <a href=\"https://www.kdnuggets.com/datasets/index.html\">Datasets</a>,\n",
       " <a href=\"https://www.kdnuggets.com/education/index.html\" title=\"Education in Analytics, Big Data, Data Science\">EDUCATION</a>,\n",
       " <a href=\"https://www.kdnuggets.com/education/analytics-data-mining-certificates.html\" title=\"Certificates in Analytics, Big Data, Data Science\">Certificates</a>,\n",
       " <a href=\"/meetings/index.html\">Meetings</a>,\n",
       " <a href=\"/webcasts/index.html\" title=\"Webcasts and Webinars\">Webinars</a>,\n",
       " <a href=\"/\">KDnuggets Home</a>,\n",
       " <a href=\"/news/index.html\">News</a>,\n",
       " <a href=\"/2018/index.html\"><img alt=\"&lt;\" border=\"0\" height=\"10\" src=\"/images/prv.gif\" width=\"8\"/> <b>2018</b></a>,\n",
       " <a href=\"/news/index.html\">Latest News</a>,\n",
       " <a href=\"/news/top-stories.html\">Top News</a>,\n",
       " <a href=\"/2019/02/index.html\">May</a>,\n",
       " <a href=\"/2019/04/index.html\">Apr</a>,\n",
       " <a href=\"/2019/03/index.html\">Mar</a>,\n",
       " <a href=\"/2019/02/index.html\">Feb</a>,\n",
       " <a href=\"/2019/01/index.html\">Jan</a>,\n",
       " <a href=\"https://www.kdnuggets.com/2019/n21.html\">\n",
       "        19:n21: Transitioning your Career to Data Science; 11 top Data Science, Machine Learning platforms; 7 Steps to Mastering Intermediate ML w. Python</a>,\n",
       " <a href=\"https://www.kdnuggets.com/2019/n20.html\">\n",
       "        19:n20: 7 Steps to Mastering SQL for Data Science; How to build Math Programming Skills</a>,\n",
       " <a href=\"https://www.kdnuggets.com/2019/n19.html\">\n",
       "        19:n19: Data Scientist – Best Job of the Year!; How (not) to use Machine Learning for time series forecasting</a>,\n",
       " <a href=\"https://www.kdnuggets.com/2019/n18.html\">\n",
       "        19:n18: What Data Science/Machine Learning software you used – KDnuggets Poll; The Third Wave Data Scientist</a>,\n",
       " <a href=\"https://www.kdnuggets.com/2019/n17.html\">\n",
       "        19:n17: The most desired skill in data science; Seeking KDnuggets Editors, work remotely</a>,\n",
       " <a href=\"https://www.kdnuggets.com/2019/n16.html\">\n",
       "        19:n16: Data Visualization in Python with Matplotlib &amp; Seaborn; Getting Into Data Science: The Ultimate Q&amp;A</a>,\n",
       " <a href=\"https://www.kdnuggets.com/2019/n15.html\">\n",
       "        19:n15: Time Series Forecasting with Neural Nets and LSTM; Why Data Scientists Need To Work In Groups</a>,\n",
       " <a href=\"https://www.kdnuggets.com/2019/n14.html\">\n",
       "        19:n14: Which Data Science/ML methods and algorithms you used? Predict Age and Gender Using Neural Nets</a>,\n",
       " <a href=\"https://www.kdnuggets.com/2019/n13.html\">\n",
       "        19:n13: Top 10 Data Scientist Coding Mistakes; Explaining Random Forest; Which Face is Real?</a>,\n",
       " <a href=\"https://www.kdnuggets.com/2019/n12.html\">\n",
       "        19:n12: My Best Tips for Agile Data Science Research; R vs Python for Data Visualization</a>,\n",
       " <a href=\"https://www.kdnuggets.com/2019/n11.html\">\n",
       "        19:n11: Another 10 Free Must-Read Books for Data Science; 19 Inspiring Women in AI, Big Data, Machine Learning</a>,\n",
       " <a href=\"https://www.kdnuggets.com/2019/n10.html\">\n",
       "        19:n10: What no one will tell you about data science job applications; The rise of ML Engineering</a>,\n",
       " <a href=\"https://www.kdnuggets.com/2019/n09.html\">\n",
       "        19:n09: Where did you apply Analytics, Machine Learning, and Data Science in 2018?; Python Data Science for Beginners</a>,\n",
       " <a href=\"https://www.kdnuggets.com/2019/n08.html\">\n",
       "        19:n08: The Gold Standard of Python Machine Learning; The Analytics Engineer – new role in the data team</a>,\n",
       " <a href=\"https://www.kdnuggets.com/2019/n07.html\">\n",
       "        19:n07: The Best and Worst Data Visualizations of 2018; Gartner 2019 Magic Quadrant for Data Science Platforms</a>,\n",
       " <a href=\"https://www.kdnuggets.com/2019/n06.html\">\n",
       "        19:n06: Data Scientists: Why are they so expensive to hire? An Essential Data Science Venn Diagram</a>,\n",
       " <a href=\"https://www.kdnuggets.com/2019/n05.html\">\n",
       "        19:n05: Your AI skills are worth less than you think; 7 Steps to Mastering Basic Machine Learning</a>,\n",
       " <a href=\"https://www.kdnuggets.com/2019/n04.html\">\n",
       "        19:n04: Top 7 Python Libraries for Data Science and AI; Ontology and Data Science</a>,\n",
       " <a href=\"https://www.kdnuggets.com/2019/n03.html\">\n",
       "        19:n03: Top 10 Books on NLP and Text Analysis; End To End Guide For Machine Learning Projects</a>,\n",
       " <a href=\"https://www.kdnuggets.com/2019/n02.html\">\n",
       "        19:n02: The cold start problem: how to build your machine learning portfolio; 5 Best Data Visualization Libraries</a>,\n",
       " <a href=\"https://www.kdnuggets.com/2019/n01.html\">\n",
       "        19:n01: The Essence of Machine Learning; A Guide to Decision Trees for Machine Learning and Data Science</a>,\n",
       " <a href=\"/2018/index.html\" target=\"_blank\"><b>KDnuggets News Issues for 2018</b></a>,\n",
       " <a href=\"/2018/12/index.html\">2018 Dec</a>,\n",
       " <a href=\"/2018/11/index.html\">Nov</a>,\n",
       " <a href=\"/2018/10/index.html\">Oct</a>,\n",
       " <a href=\"/2018/10/index.html\">Oct</a>,\n",
       " <a href=\"/2018/09/index.html\">Sep</a>,\n",
       " <a href=\"/2018/08/index.html\">Aug</a>,\n",
       " <a href=\"/2018/07/index.html\">Jul</a>,\n",
       " <a href=\"/2018/06/index.html\">Jun</a>,\n",
       " <a href=\"/2018/05/index.html\">May</a>,\n",
       " <a href=\"/2018/04/index.html\">Apr</a>,\n",
       " <a href=\"/2018/03/index.html\">Mar</a>,\n",
       " <a href=\"/2018/02/index.html\">Feb</a>,\n",
       " <a href=\"/2018/01/index.html\">Jan</a>,\n",
       " <a href=\"/2017/index.html\" target=\"_blank\"><b>KDnuggets News Issues for 2017</b></a>,\n",
       " <a href=\"/2017/12/index.html\">2017 Dec</a>,\n",
       " <a href=\"/2017/11/index.html\">Nov</a>,\n",
       " <a href=\"/2017/10/index.html\">Oct</a>,\n",
       " <a href=\"/2017/10/index.html\">Oct</a>,\n",
       " <a href=\"/2017/09/index.html\">Sep</a>,\n",
       " <a href=\"/2017/08/index.html\">Aug</a>,\n",
       " <a href=\"/2017/07/index.html\">Jul</a>,\n",
       " <a href=\"/2017/06/index.html\">Jun</a>,\n",
       " <a href=\"/2017/05/index.html\">May</a>,\n",
       " <a href=\"/2017/04/index.html\">Apr</a>,\n",
       " <a href=\"/2017/03/index.html\">Mar</a>,\n",
       " <a href=\"/2017/02/index.html\">Feb</a>,\n",
       " <a href=\"/2017/01/index.html\">Jan</a>,\n",
       " <a href=\"/news/archive.html\">KDnuggets News Archive</a>,\n",
       " <a href=\"/news/schedule.html\">KDnuggets Schedule</a>,\n",
       " <a href=\"/news/index.html\">Latest News</a>,\n",
       " <a href=\"https://www.kdnuggets.com/2019/06/using-what-if-tool-investigate-machine-learning-models.html\">Using the ‘What-If Tool’ to investigate Machine Lea...</a>,\n",
       " <a href=\"https://www.kdnuggets.com/2019/06/pyviz-data-visualisation-python.html\">PyViz: Simplifying the Data Visualisation Process in Py...</a>,\n",
       " <a href=\"https://www.kdnuggets.com/2019/06/jupyter-notebooks-data-science-reporting.html\">Jupyter Notebooks: Data Science Reporting</a>,\n",
       " <a href=\"https://www.kdnuggets.com/2019/06/top-tweets-may29-jun4.html\">Top KDnuggets Tweets, May 29 – June 4:  Difference be...</a>,\n",
       " <a href=\"https://www.kdnuggets.com/2019/06/rhan-math-machine-learning-ebook.html\">Math for Machine Learning.</a>,\n",
       " <a href=\"https://www.kdnuggets.com/2019/06/nlp-computer-vision-integrated.html\">NLP and Computer Vision Integrated</a>,\n",
       " <a href=\"/\">KDnuggets Home</a>,\n",
       " <a href=\"/news/index.html\">News</a>,\n",
       " <a href=\"/about/index.html\">About KDnuggets</a>,\n",
       " <a href=\"/news/privacy-policy.html\">Privacy policy</a>,\n",
       " <a href=\"/terms-of-service.html\">Terms of Service</a>,\n",
       " <a href=\"/news/subscribe.html\" onclick=\"ga('send','pageview','/x/bot/sub');\" target=\"_blank\"><b>Subscribe to KDnuggets News</b></a>,\n",
       " <a href=\"https://twitter.com/kdnuggets\" onclick=\"ga('send','pageview','/x/bot/twt');\" target=\"_blank\"><img height=\"32\" src=\"/images/tw_c48.png\" width=\"32\"/></a>,\n",
       " <a href=\"https://facebook.com/kdnuggets\" onclick=\"ga('send','pageview','/x/bot/fb');\" target=\"_blank\"><img alt=\"Facebook\" height=\"32\" src=\"/images/fb_c48.png\" width=\"32\"/></a>,\n",
       " <a href=\"https://www.linkedin.com/groups/54257\" onclick=\"ga('send','pageview','/x/bot/in');\" target=\"_blank\"><img alt=\"LinkedIn\" height=\"32\" src=\"/images/in_c48.png\" width=\"32\"/></a>,\n",
       " <a href=\"/news/subscribe.html\">Get KDnuggets, a leading newsletter on AI, \n",
       "   Data Science, and Machine Learning</a>,\n",
       " <a href=\"https://www.kdnuggets.com/news/privacy-policy.html\" style=\"font-size:9px\" target=\"_blank\">Privacy Policy</a>]"
      ]
     },
     "execution_count": 2,
     "metadata": {},
     "output_type": "execute_result"
    }
   ],
   "source": [
    "page = requests.get(\"https://www.kdnuggets.com/2019/index.html\")\n",
    "soup = BeautifulSoup(page.content, \"lxml\")\n",
    "soup.findAll('a')"
   ]
  },
  {
   "cell_type": "code",
   "execution_count": 7,
   "metadata": {},
   "outputs": [],
   "source": [
    " list_of_url = [\"https://www.kdnuggets.com/2019/05/index.html\",\n",
    "                \"https://www.kdnuggets.com/2019/04/index.html\",\n",
    "                \"https://www.kdnuggets.com/2019/03/index.html\",\n",
    "                \"https://www.kdnuggets.com/2019/02/index.html\",\n",
    "                \"https://www.kdnuggets.com/2019/01/index.html\"]"
   ]
  },
  {
   "cell_type": "code",
   "execution_count": 81,
   "metadata": {},
   "outputs": [],
   "source": [
    "def getArticleText(list_of_url):\n",
    "    links = []\n",
    "    posts = []\n",
    "    # Create a list of links to all articles\n",
    "    for link in list_of_url:\n",
    "        req = requests.get(\"https://www.kdnuggets.com/2019/05/index.html\")\n",
    "        soup = BeautifulSoup(req.content)\n",
    "        bullets = soup.findAll(\"ul\", {\"class\": \"three_ul\"})\n",
    "        for bullet in bullets:\n",
    "            for b in bullet.findAll(\"li\"):\n",
    "                links.append((b.find('a', href=True))['href'])\n",
    "    # Create a list of the body text from all articles\n",
    "    for article in links:\n",
    "        page = requests.get(article)\n",
    "        art_soup = BeautifulSoup(page.content)\n",
    "        s = ' '.join(map(lambda p: p.text, art_soup.find_all(id=\"post-\"))).replace('\\n', '')\n",
    "        s = s.replace('\\xa0', '')\n",
    "        posts+=[s]\n",
    "        \n",
    "    return posts\n",
    "    # Load results into a dataframe\n",
    "    #df = pd.DataFrame({'Article Text':posts})\n",
    "    #pd.options.display.max_colwidth = 100\n",
    "    #return df\n",
    "\n",
    "doc = getArticleText(list_of_url)"
   ]
  },
  {
   "cell_type": "code",
   "execution_count": 146,
   "metadata": {},
   "outputs": [],
   "source": [
    "def getCluster(doc, n, url_for_pred):\n",
    "    vectorizer = TfidfVectorizer(max_df=0.5, min_df=2, stop_words='english')\n",
    "    X = vectorizer.fit_transform(doc)\n",
    "    km = KMeans(n_clusters=n, init='k-means++', max_iter=100, n_init=1, verbose =True)\n",
    "    km.fit(X)\n",
    "    print(np.unique(km.labels_, return_counts=True))\n",
    "    text={}\n",
    "    for i, cluster in enumerate(km.labels_):\n",
    "        oneDocument = doc[i]\n",
    "        if cluster not in text.keys():\n",
    "            text[cluster] = oneDocument\n",
    "        else:\n",
    "            text[cluster] += oneDocument\n",
    "    _stopwords = set(stopwords.words('english') \n",
    "                     + list(punctuation) \n",
    "                     + ['“','”', \"2019\", \"2019.\", \"word\", \"words\", '--', \"'s\"] \n",
    "                     + [str(x) for x in range(10)])\n",
    "    keywords ={}\n",
    "    counts={}\n",
    "    for cluster in range(n):\n",
    "        word_sent = word_tokenize(text[cluster].lower())\n",
    "        word_sent = [word for word in word_sent if word not in _stopwords]\n",
    "        freq = FreqDist(word_sent)\n",
    "        # Pick top 100 words\n",
    "        keywords[cluster] = nlargest(100, freq, key=freq.get)\n",
    "        counts[cluster]=freq\n",
    "    unique_keys = {}\n",
    "    for cluster in range(n):\n",
    "        other_clusters= list(set(range(n)) - set([cluster]))\n",
    "        keys_other_clusters=set(keywords[other_clusters[0]]).union(set(keywords[other_clusters[1]]))\n",
    "        # Find the list of words present in other clusters and remove them from this cluster\n",
    "        unique=set(keywords[cluster])-keys_other_clusters\n",
    "        # Pick the top 10 words unique to this cluster\n",
    "        unique_keys[cluster] = nlargest(10, unique, key=counts[cluster].get)\n",
    "    print(unique_keys)\n",
    "    # Load text that we want to predict\n",
    "    page = requests.get(url_for_pred)\n",
    "    soup = BeautifulSoup(page.content)\n",
    "    s = ' '.join(map(lambda p: p.text, soup.find_all(id=\"post-\"))).replace('\\n', '')\n",
    "    s = s.replace('\\xa0', '')\n",
    "    classifier = KNeighborsClassifier(n_neighbors=20)\n",
    "    classifier.fit(X, km.labels_)\n",
    "    test = vectorizer.transform([s])\n",
    "    return classifier.predict(test)"
   ]
  },
  {
   "cell_type": "code",
   "execution_count": 147,
   "metadata": {
    "scrolled": true
   },
   "outputs": [
    {
     "name": "stdout",
     "output_type": "stream",
     "text": [
      "Initialization complete\n",
      "Iteration  0, inertia 759.358\n",
      "Iteration  1, inertia 387.856\n",
      "Iteration  2, inertia 387.502\n",
      "Converged at iteration 2: center shift 0.000000e+00 within tolerance 9.262319e-09\n",
      "(array([0, 1, 2, 3]), array([105, 110,  50, 165], dtype=int64))\n",
      "{0: ['training', 'test', 'images', 'dataset', 'neural', 'network', 'vision', 'image', 'labels', 'train'], 1: ['customer', 'ai', 'churn', 'customers', 'algorithms', 'business', 'decision', 'tensorflow', 'systems', 'companies'], 2: ['df', 'text', 'name', 'import', 'sentiment', 'tweets', 'tweet', '1254', 'animation', 'key'], 3: ['program', 'scientist', 'job', 'graph', 'probability', 'visualization', 'sql', 'cs', 'skills', 'rank']}\n"
     ]
    },
    {
     "data": {
      "text/plain": [
       "array([0])"
      ]
     },
     "execution_count": 147,
     "metadata": {},
     "output_type": "execute_result"
    }
   ],
   "source": [
    "getCluster(doc, 4, \"https://www.kdnuggets.com/2018/12/solve-image-classification-problem-quickly-easily.html\")"
   ]
  },
  {
   "cell_type": "markdown",
   "metadata": {},
   "source": [
    "# Summarize an article"
   ]
  },
  {
   "cell_type": "code",
   "execution_count": 4,
   "metadata": {},
   "outputs": [],
   "source": [
    "# Encapsulating the parsing logic into a function\n",
    "def getText(url):\n",
    "    # download page\n",
    "    page = requests.get(url)\n",
    "    # Instantiate soup object\n",
    "    soup = BeautifulSoup(page.content)\n",
    "    # Find all elements with a article tag, extract the text and join into one single string\n",
    "    text = ' '.join(map(lambda p: p.text, soup.find_all(id=\"post-\"))).replace('\\n', '')\n",
    "    # Remove all \\xa0\n",
    "    text = text.replace('\\xa0', ' ')\n",
    "    return text"
   ]
  },
  {
   "cell_type": "code",
   "execution_count": 5,
   "metadata": {},
   "outputs": [],
   "source": [
    "url = \"https://www.kdnuggets.com/2019/05/lady-tasting-tea-science.html\"\n",
    "text = getText(url)"
   ]
  },
  {
   "cell_type": "code",
   "execution_count": 6,
   "metadata": {},
   "outputs": [],
   "source": [
    "# Encapsulate summary logic into function\n",
    "def summarize(text, n):\n",
    "    '''\n",
    "    This function takes a string of text and the desired number of sentences in the ouput summary as inputs.\n",
    "    '''\n",
    "    # Get list of individual sentences in the text\n",
    "    sents = sent_tokenize(text)\n",
    "    \n",
    "    # The full text must be longer than the desired summary\n",
    "    assert n <= len(sents)\n",
    "    # Get list of individual words in the text\n",
    "    word_sent = word_tokenize(text.lower())\n",
    "    # Create a set of stopwords\n",
    "    _stopwords = set(stopwords.words('english') + list(punctuation) + ['“','”'])\n",
    "    \n",
    "    # Remove stopwords from our text\n",
    "    word_sent = [word for word in word_sent if word not in _stopwords]\n",
    "    # Construct a frequency distribution of words\n",
    "    freq = FreqDist(word_sent)\n",
    "    \n",
    "    # Compute the significance score of each sentence by adding up the word frequencies. Add each ranking to a dictionary for lookup.\n",
    "    ranking = defaultdict(int)\n",
    "    for i, sent in enumerate(sents):\n",
    "        for w in word_tokenize(sent.lower()):\n",
    "            if w in freq:\n",
    "                ranking[i] += freq[w]\n",
    "    \n",
    "    #  Pick most important sentences based on signifiance score\n",
    "    sents_idx = nlargest(n, ranking, key=ranking.get)\n",
    "    # Reorder sentences based on order in original text\n",
    "    return \" \".join([sents[j] for j in sorted(sents_idx)])"
   ]
  },
  {
   "cell_type": "code",
   "execution_count": 8,
   "metadata": {},
   "outputs": [
    {
     "data": {
      "text/plain": [
       "'Less than a century old, DOE has made possible scientific advances and is a standard part of not only scientific experiments but experiments conducted out in the world: surveys, marketing studies, credit decisions are all conducted (or should be) using basic experimental design principles.Yet not many people know that a experiment arising from a casual conversation at an English university about tea-drinking is one of the first examples of an experiment designed using statistical ideas, by a geneticist named Ronald Aylmer (R.A.) Fisher.The Lady Tasting TeaBy the 1900’s, scientific experiments had been conducted for hundreds of years. Fisher and others scoffed at this and a colleague, William Roach, suggested a test.Fisher then quickly constructed a test, presenting Ms. Bristol with 8 cups of tea, 4 of which had milk poured in first, and 4 of which had milked added after the tea, but which otherwise were the same in terms of appearance, temperature, etc. In our tea example, Fisher used 8 cups, to give some measure of repeatability.Exchangeability Along with replication, it is also very important that all experimental units (cups of tea, in our example) are as similar as possible, with the exception of the treatment (milk-first or tea-first). The design of the experiment and the random permutation of results created the mechanism used to assess the evidence.It’s worth noting that the permutation distribution of T in this example looks a lot like a normal distribution, and in fact, as the number of pairs grows large, it will resemble a normal distribution more and more.'"
      ]
     },
     "execution_count": 8,
     "metadata": {},
     "output_type": "execute_result"
    }
   ],
   "source": [
    "summarize(text, 4)"
   ]
  },
  {
   "cell_type": "code",
   "execution_count": null,
   "metadata": {},
   "outputs": [],
   "source": []
  }
 ],
 "metadata": {
  "kernelspec": {
   "display_name": "Python 3",
   "language": "python",
   "name": "python3"
  },
  "language_info": {
   "codemirror_mode": {
    "name": "ipython",
    "version": 3
   },
   "file_extension": ".py",
   "mimetype": "text/x-python",
   "name": "python",
   "nbconvert_exporter": "python",
   "pygments_lexer": "ipython3",
   "version": "3.7.3"
  }
 },
 "nbformat": 4,
 "nbformat_minor": 2
}
