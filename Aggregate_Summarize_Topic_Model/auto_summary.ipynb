{
 "cells": [
  {
   "cell_type": "markdown",
   "metadata": {},
   "source": [
    "# Overview\n",
    "* Summarize articles by scoring each sentence based on word frequency"
   ]
  },
  {
   "cell_type": "code",
   "execution_count": 1,
   "metadata": {},
   "outputs": [],
   "source": [
    "import requests\n",
    "from bs4 import BeautifulSoup\n",
    "from nltk.tokenize import sent_tokenize, word_tokenize\n",
    "from nltk.corpus import stopwords\n",
    "from string import punctuation\n",
    "from nltk.probability import FreqDist\n",
    "from heapq import nlargest\n",
    "from collections import defaultdict"
   ]
  },
  {
   "cell_type": "code",
   "execution_count": 19,
   "metadata": {},
   "outputs": [],
   "source": [
    "# Encapsulating the parsing logic into a function\n",
    "def getTextWaPo(url):\n",
    "    # download page\n",
    "    page = requests.get(url)\n",
    "    # Instantiate soup object\n",
    "    soup = BeautifulSoup(page.content)\n",
    "    # Find all elements with a article tag, extract the text and join into one single string\n",
    "    text = ' '.join(map(lambda p: p.text, soup.find_all('article')))\n",
    "    # Remove all \\xa0 and \\u2009\n",
    "    text = text.replace(r'\\\\[uxc][abcdef]{0,2}\\d{0,4}', ' ')\n",
    "    return text"
   ]
  },
  {
   "cell_type": "code",
   "execution_count": 20,
   "metadata": {},
   "outputs": [
    {
     "data": {
      "text/plain": [
       "\"      By  Samantha Schmidt          Samantha Schmidt Reporter covering gender and family issues  Email  Bio  Follow         June 7 at 7:30 PM  Steve and Teri Augustine met, fell in love and got married in a conservative evangelical Christian community. They grew up believing homosexuality was a sin, and that the “gay agenda” was an attack on their values. Then, six years ago, their son Peter — their youngest child who loved theater and his church youth group — returned home to Ellicott City, Md., from his freshman year of college and came out to his family as gay. Teri asked her son not to tell anyone else, and drove herself to a mall parking lot to cry. Steve questioned his son’s faith, reciting Bible passages from Corinthians. The Augustines decided to put their son through a year of conversion therapy, determined to “set him straight.” But after the therapy failed, something changed. Steve and Teri Augustine started meeting Peter’s friends and inviting other gay Christians to dinner. Two summers after Peter came out, the family stood on the sidelines of the Capital Pride parade wearing rainbow beads and shirts with the words “I’m sorry.” Teri now hosts a support group for Christian moms of LGBTQ children. “I knew that if I was going to get a handle on who my son was,” Teri said, “I really needed to step into that world.” The transformation in the Augustine family parallels a shift in public opinion that social scientists say is unlike any other of our time. As recently as 2004, polls showed that the majority of Americans — 60 percent — opposed same-sex marriage, while only 31 percent were in favor, according to the Pew Research Center. Today, those numbers are reversed : 61 percent support same-sex marriage, while 31 percent oppose it. “You can’t find another issue where attitudes have shifted so rapidly,” said Don Haider-Markel, a political science professor at the University of Kansas who has studied public opinion of LGBT rights over the years. What’s perhaps most surprising is that support for same-sex marriage has increased among nearly all demographic groups, across different generations, partisan lines and religious faiths. Even among the most resistant religious group, white evangelical Protestants like the Augustine family, support for same-sex marriage has grown from 11 percent in 2004 to 29 percent in 2019, according to Pew. Fifty years after police raided the Stonewall Inn, a gay club in Manhattan, spurring days of riots that would become a catalyst for the gay rights movement, the leap in public opinion has been followed by leaps on the ground, even as work remains. A record number of LGBT candidates have been elected to Congress, Colorado elected the country’s first openly gay governor, Chicago has a lesbian mayor and the first openly gay Democratic candidate is running for president. But while it’s clear that the gay rights movement managed to change people’s minds faster than any other civil rights movement in memory, it’s less clear why. How, in 15 years, did Americans’ views flip on such a charged social issue? And why haven’t other groups that have also publicly fought discrimination managed to change public opinion as quickly? The answer lies in human behavior and demographic realities, as well as a winning strategy by gay rights activists that capitalized on both. Uneven attitudes  In a study published earlier this year, Mahzarin Banaji, a psychology professor at Harvard University, investigated patterns of long-term changes in attitudes toward six social groups — the elderly, the disabled, the overweight, black people, people with darker skin tones and gay people — over a decade. Her research measured both explicit attitudes and implicit attitudes, through online implicit association tests. While people may consciously report positive feelings toward a group in self-reported surveys, their implicit — or automatic, subconscious — attitudes might reveal a different bias. It’s the difference between the values we profess and what we believe is socially acceptable to say, and what we actually feel. [Pete Buttigieg believes the religious left will get Trump out of office.] Between 2007 and 2016, Banaji found that explicit attitudes toward all groups became less biased. But implicit attitudes toward some groups stayed the same — including bias toward people with disabilities and the elderly. Implicit bias against people who are overweight actually became worse. Respondents became less biased in their attitudes toward race and skin tone. But of all of the groups, implicit attitudes toward sexuality changed, by far, the fastest. “Nobody expects implicit attitudes to change that rapidly over such a brief period of time,” Banaji said. This relatively recent acceleration came after decades of struggle. In 1978, almost a decade after Stonewall, gay rights activist Harvey Milk gave an impassioned plea: “Every gay person must come out.” In the decades that followed, more and more Americans started coming out to their loved ones, some galvanized by the pain of the AIDS epidemic. Then, in the late 1990s and early 2000s, the growing visibility of gay people in popular culture began to trigger a major shift in attitudes, social scientists said. By then, comedian Ellen DeGeneres had come out as gay, the NBC sitcom “Will & Grace” had taken off and Americans started seeing more examples of gay people in popular culture. Most of these characters and the most visible leaders at the helm of the movement were white people with the power and privilege to help LGBT rights reach the mainstream. But there was something different about the gay and lesbian community, compared with other minority groups. They were in every socioeconomic and racial group, every generation, in small towns and big cities. Unlike other demographics, “sexuality is a dimension that is everywhere,” Banaji said. “It is not segregated.” The more connections Americans made with gay or lesbian people, the more positive their attitudes toward them became — a trend social scientists call “the contact hypothesis.” And families like the Augustines were forced to resolve an internal dilemma that social scientists call “cognitive dissonance.” “When two beliefs come into conflict in our minds, our brains are not good at just holding the conflict. We have to resolve the conflict,” Banaji said. “You can disown your child or you can change your attitudes toward gay people.” [For religious conservative women, the Kavanaugh hearing was disorienting] After conversion therapy failed to change their son’s sexuality, Teri and Steve Augustine resolved to understand it. Teri asked her children to invite gay Christians they knew to their home. Her daughter Bethany invited a gay colleague to come to dinner with his partner. Teri learned about the pain he endured when his church rejected him. “My husband and I looked at each other and were like, ‘Wow, we need to do some work here,’\\u2009” Teri said. Then, during Peter’s junior year of college, his parents went to a Gay Christian Network conference, where they worshiped alongside hundreds of gay, lesbian and transgender Christians. “I grew up with a concept that those two words were mutually exclusive,” he said. He had already begun to believe that Peter could be both gay and Christian, “but Peter is only one person. I saw it in 1,500 people. .\\u2009.\\u2009. That was the closest thing I had to a lightbulb.” The family continued to organize monthly dinners in their home for gay Christians, many of whom were rejected from their own churches or families. What began as a group of four people has grown to nearly 20 — sharing a meal, praying and singing together. 'Love was in place' If the relationships gay and lesbian people have with those close to them were so crucial in building support for the gay rights movement, why haven’t those connections been as instrumental in changing attitudes about African Americans, the elderly or overweight people? What might be different about the gay community, Banaji speculated, is that even before a person came out, “love was in place.” A parent or a co-worker already knows and loves a gay person, and then discovers a person’s sexuality, which is often not obvious right away. “That, I think, is very different from something like age, or race, or body weight that just presents itself immediately upon seeing a person for the first time.” Geographic and social segregation play roles, too. It’s hard for bias-challenging, face-to-face contact to take place when African Americans and the elderly, for example, are not well integrated into neighborhoods or social spaces due to both present-day and historic discrimination. The gay rights movement was also helped along by the exposure Americans received through leaders in their own communities. Researchers found that participants were more likely to express support for marriage equality when they had been exposed to that message from an “in-group” leader, such as an athlete on their favorite sports team, a politician or a pastor. Sen. Rob Portman (R-Ohio) and Vice President Richard B. Cheney, who both spoke in favor of gay rights after their children came out as gay, helped build support among Republicans, said political scientist Melissa Michelson of Menlo College, who co-wrote a book with Brian Harrison of the University of Minnesota about their findings. Among those who changed their opinion on same-sex marriage after President Barack Obama announced his support, blacks were more likely than whites to shift toward supporting it. [Years after his partner’s death, he’s still fighting for Social Security benefits] But for much of the United States , the tipping point in the gay rights movement was something more obvious: marriage equality itself. Before the U.S. Supreme Court ruled that bans on same-sex marriage were unconstitutional, several states had already begun legally recognizing same-sex marriages. A 2015 study found that residents of states with a same-sex marriage policy had the greatest reduction of anti-gay attitudes, when compared with residents of states where same-sex marriage was illegal. The institution of marriage put a stamp of legitimacy on same-sex couples that allowed straight ones to see them as a family unit, just like theirs, said Andrew Flores of American University, a co-author of the study . Moreover, Michelson said, “there was a very conscious effort to frame this as being about love instead of being about rights.” And the marriage equality movement chose elderly same-sex couples as some of their most visible spokespeople, Michelson pointed out. “There weren’t any suggestions of anything happening between the sheets. It was just about love,” she said. Frozen positions  Despite the rapid progress of the gay rights movement, members of the LGBTQ community continue to be targets of violence and hate crimes. The Trump administration has rolled back a number of transgender protections at the federal level and emboldened a conservative base pushing for religious liberty — a backlash that Haider-Markel says parallels the rise of anti-gay movements in the 1970s, such as singer Anita Bryant’s anti-gay “Save Our Children” campaign in Florida, and the Briggs Initiative, a ballot measure in California that would have mandated the firing of any teacher who was gay or pro-gay rights. Even for the gay and lesbian community, “rapid progress in a short period of time doesn’t mean victory,” Haider-Markel said. “Look at the fact that in many states, if a gay or lesbian couple gets married and has their marriage in the local newspaper, they might lose their jobs,” Haider-Markel said. “That’s not trivial.” And attitudes about same-sex marriage have remained mostly frozen since 2017. “The positions are hardened,” Haider-Markel said. Statistically, once support for an issue reaches a majority like this one, movement toward 100 percent becomes much more difficult, Flores said, meaning that until a major shift occurs there will continue to be a core group of conservatives who oppose same-sex marriage. In conservative evangelical circles like the Augustines’, the work of changing minds happens even more slowly. But evangelical LGBTQ activist Brandan Robertson said he has seen small but significant shifts — particularly as many moderate and mainstream pastors resort to simply not talking about the issue, which Robertson sees as a positive step. “Just 5 years ago it would have been okay to say homosexuality is a sin and an abomination,” Robertson said. “Today you would be hard-pressed to find any major evangelical leader who would say that publicly.” As for the Augustines, the family left their old church, a conservative evangelical megachurch, for Emmanuel United Methodist Church in Laurel, Md., which calls itself “an affirming community of faith.” Walking into a service last Sunday, Teri and Steve Augustine passed a rainbow Pride flag in front of the small church, and a sign that read, “Minds are like parachutes. They only work when open.” Peter led the congregation in the song “You are Holy.” The pastor wore a rainbow stole around her neck. After the service, Teri met with a group of about 10 mothers of LGBT children. Fanning themselves while sitting on floral-printed couches, they went around sharing their stories to a newcomer. There was the mother whose father, grandfather and uncles were all conservative pastors, and whose daughter recently came out as gay , though none of the extended relatives know. There was the mother of a transgender son who lost touch with her parents after they told her, “If you don’t disown your child, we’ll disown you.” After two hours, they bowed their heads as one of the moms led them in prayer. “We pray for our children. Lord, protect them. Keep them safe. Pray for our relationships with our extended families, relationships that are broken, difficult, or just silent,” the mother said. “Give us wisdom as we speak, and patience as we listen.”  Emily Guskin contributed to this report.  \""
      ]
     },
     "execution_count": 20,
     "metadata": {},
     "output_type": "execute_result"
    }
   ],
   "source": [
    "url = \"https://www.washingtonpost.com/local/social-issues/americans-views-flipped-on-gay-rights-how-did-minds-change-so-quickly/2019/06/07/ae256016-8720-11e9-98c1-e945ae5db8fb_story.html?utm_term=.107ac30131f0\"\n",
    "text = getTextWaPo(url)\n",
    "getTextWaPo(url)"
   ]
  },
  {
   "cell_type": "code",
   "execution_count": 8,
   "metadata": {},
   "outputs": [],
   "source": [
    "# Encapsulate summary logic into function\n",
    "def summarize(text, n):\n",
    "    '''\n",
    "    This function takes a string of text and the desired number of sentences in the ouput summary as inputs.\n",
    "    '''\n",
    "    # Get list of individual sentences in the text\n",
    "    sents = sent_tokenize(text)\n",
    "    \n",
    "    # The full text must be longer than the desired summary\n",
    "    assert n <= len(sents)\n",
    "    # Get list of individual words in the text\n",
    "    word_sent = word_tokenize(text.lower())\n",
    "    # Create a set of stopwords\n",
    "    _stopwords = set(stopwords.words('english') + list(punctuation) + ['“','”'])\n",
    "    \n",
    "    # Remove stopwords from our text\n",
    "    word_sent = [word for word in word_sent if word not in _stopwords]\n",
    "    # Construct a frequency distribution of words\n",
    "    freq = FreqDist(word_sent)\n",
    "    \n",
    "    # Compute the significance score of each sentence by adding up the word frequencies. Add each ranking to a dictionary for lookup.\n",
    "    ranking = defaultdict(int)\n",
    "    for i, sent in enumerate(sents):\n",
    "        for w in word_tokenize(sent.lower()):\n",
    "            if w in freq:\n",
    "                ranking[i] += freq[w]\n",
    "    \n",
    "    #  Pick most important sentences based on signifiance score\n",
    "    sents_idx = nlargest(n, ranking, key=ranking.get)\n",
    "    # Reorder sentences based on order in original text\n",
    "    return \" \".join([sents[j] for j in sorted(sents_idx)])"
   ]
  },
  {
   "cell_type": "code",
   "execution_count": 18,
   "metadata": {},
   "outputs": [
    {
     "data": {
      "text/plain": [
       "\"But while it’s clear that the gay rights movement managed to change people’s minds faster than any other civil rights movement in memory, it’s less clear why. Uneven attitudes  In a study published earlier this year, Mahzarin Banaji, a psychology professor at Harvard University, investigated patterns of long-term changes in attitudes toward six social groups — the elderly, the disabled, the overweight, black people, people with darker skin tones and gay people — over a decade. “It is not segregated.” The more connections Americans made with gay or lesbian people, the more positive their attitudes toward them became — a trend social scientists call “the contact hypothesis.” And families like the Augustines were forced to resolve an internal dilemma that social scientists call “cognitive dissonance.” “When two beliefs come into conflict in our minds, our brains are not good at just holding the conflict. 'Love was in place' If the relationships gay and lesbian people have with those close to them were so crucial in building support for the gay rights movement, why haven’t those connections been as instrumental in changing attitudes about African Americans, the elderly or overweight people?\""
      ]
     },
     "execution_count": 18,
     "metadata": {},
     "output_type": "execute_result"
    }
   ],
   "source": [
    "summarize(text, 4)"
   ]
  },
  {
   "cell_type": "code",
   "execution_count": null,
   "metadata": {},
   "outputs": [],
   "source": []
  }
 ],
 "metadata": {
  "kernelspec": {
   "display_name": "Python 3",
   "language": "python",
   "name": "python3"
  },
  "language_info": {
   "codemirror_mode": {
    "name": "ipython",
    "version": 3
   },
   "file_extension": ".py",
   "mimetype": "text/x-python",
   "name": "python",
   "nbconvert_exporter": "python",
   "pygments_lexer": "ipython3",
   "version": "3.7.3"
  }
 },
 "nbformat": 4,
 "nbformat_minor": 2
}
